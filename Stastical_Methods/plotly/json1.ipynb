{
 "cells": [
  {
   "cell_type": "code",
   "execution_count": 4,
   "id": "1165d791",
   "metadata": {},
   "outputs": [
    {
     "name": "stdout",
     "output_type": "stream",
     "text": [
      "CSV file saved as air_quality_data.csv\n"
     ]
    }
   ],
   "source": [
    "\n",
    "import pandas as pd\n",
    "import json\n",
    "\n",
    "# Load JSON file\n",
    "file = \"../data/JSON-1.json\"\n",
    "with open(file, \"r\") as f:\n",
    "    data = json.load(f)\n",
    "\n",
    "# Extract the 'feeds' data (actual measurements)\n",
    "feeds_df = pd.DataFrame(data[\"feeds\"])\n",
    "\n",
    "# Optional: Rename field1 to something meaningful using channel metadata\n",
    "feeds_df = feeds_df.rename(columns={\"field1\": data[\"channel\"][\"field1\"]})\n",
    "\n",
    "# Save to CSV\n",
    "feeds_df.to_csv(\"air_quality_data.csv\", index=False)\n",
    "\n",
    "print(\"CSV file saved as air_quality_data.csv\")\n",
    "\n"
   ]
  },
  {
   "cell_type": "code",
   "execution_count": 7,
   "id": "385ae1cb",
   "metadata": {},
   "outputs": [
    {
     "data": {
      "application/vnd.microsoft.datawrangler.viewer.v0+json": {
       "columns": [
        {
         "name": "index",
         "rawType": "int64",
         "type": "integer"
        },
        {
         "name": "created_at",
         "rawType": "object",
         "type": "string"
        },
        {
         "name": "entry_id",
         "rawType": "int64",
         "type": "integer"
        },
        {
         "name": "Air quality PM2.5 [Âµg/m3]",
         "rawType": "object",
         "type": "string"
        }
       ],
       "ref": "5352983d-4b85-4f2a-ab31-157108a76025",
       "rows": [
        [
         "0",
         "2025-07-23T00:44:10Z",
         "332500",
         "1.9"
        ],
        [
         "1",
         "2025-07-23T00:56:13Z",
         "332501",
         "2.0"
        ],
        [
         "2",
         "2025-07-23T01:08:16Z",
         "332502",
         "1.6"
        ],
        [
         "3",
         "2025-07-23T01:20:19Z",
         "332503",
         "1.8"
        ],
        [
         "4",
         "2025-07-23T01:32:22Z",
         "332504",
         "1.5"
        ],
        [
         "5",
         "2025-07-23T01:44:25Z",
         "332505",
         "1.7"
        ],
        [
         "6",
         "2025-07-23T01:56:28Z",
         "332506",
         "1.6"
        ],
        [
         "7",
         "2025-07-23T02:08:31Z",
         "332507",
         "1.4"
        ],
        [
         "8",
         "2025-07-23T02:20:34Z",
         "332508",
         "1.8"
        ],
        [
         "9",
         "2025-07-23T02:32:37Z",
         "332509",
         "1.5"
        ],
        [
         "10",
         "2025-07-23T02:44:40Z",
         "332510",
         "1.6"
        ],
        [
         "11",
         "2025-07-23T02:56:43Z",
         "332511",
         "1.6"
        ],
        [
         "12",
         "2025-07-23T03:08:46Z",
         "332512",
         "1.5"
        ],
        [
         "13",
         "2025-07-23T03:20:49Z",
         "332513",
         "1.6"
        ],
        [
         "14",
         "2025-07-23T03:32:51Z",
         "332514",
         "1.4"
        ],
        [
         "15",
         "2025-07-23T03:44:54Z",
         "332515",
         "1.3"
        ],
        [
         "16",
         "2025-07-23T03:56:57Z",
         "332516",
         "1.7"
        ],
        [
         "17",
         "2025-07-23T04:09:00Z",
         "332517",
         "1.3"
        ],
        [
         "18",
         "2025-07-23T04:21:03Z",
         "332518",
         "1.6"
        ],
        [
         "19",
         "2025-07-23T04:33:06Z",
         "332519",
         "1.7"
        ],
        [
         "20",
         "2025-07-23T04:45:08Z",
         "332520",
         "1.8"
        ],
        [
         "21",
         "2025-07-23T04:57:11Z",
         "332521",
         "1.9"
        ],
        [
         "22",
         "2025-07-23T05:09:14Z",
         "332522",
         "2.2"
        ],
        [
         "23",
         "2025-07-23T05:21:17Z",
         "332523",
         "1.9"
        ],
        [
         "24",
         "2025-07-23T05:33:20Z",
         "332524",
         "1.7"
        ],
        [
         "25",
         "2025-07-23T05:45:23Z",
         "332525",
         "1.7"
        ],
        [
         "26",
         "2025-07-23T05:57:26Z",
         "332526",
         "2.0"
        ],
        [
         "27",
         "2025-07-23T06:09:29Z",
         "332527",
         "1.6"
        ],
        [
         "28",
         "2025-07-23T06:21:32Z",
         "332528",
         "1.5"
        ],
        [
         "29",
         "2025-07-23T06:33:36Z",
         "332529",
         "1.7"
        ],
        [
         "30",
         "2025-07-23T06:45:39Z",
         "332530",
         "2.1"
        ],
        [
         "31",
         "2025-07-23T06:57:42Z",
         "332531",
         "1.8"
        ],
        [
         "32",
         "2025-07-23T07:09:46Z",
         "332532",
         "1.8"
        ],
        [
         "33",
         "2025-07-23T07:21:49Z",
         "332533",
         "2.0"
        ],
        [
         "34",
         "2025-07-23T07:33:52Z",
         "332534",
         "1.8"
        ],
        [
         "35",
         "2025-07-23T07:45:56Z",
         "332535",
         "1.6"
        ],
        [
         "36",
         "2025-07-23T07:57:59Z",
         "332536",
         "1.8"
        ],
        [
         "37",
         "2025-07-23T08:10:03Z",
         "332537",
         "2.0"
        ],
        [
         "38",
         "2025-07-23T08:22:06Z",
         "332538",
         "1.6"
        ],
        [
         "39",
         "2025-07-23T08:34:10Z",
         "332539",
         "1.6"
        ],
        [
         "40",
         "2025-07-23T08:46:14Z",
         "332540",
         "1.6"
        ],
        [
         "41",
         "2025-07-23T08:58:17Z",
         "332541",
         "1.6"
        ],
        [
         "42",
         "2025-07-23T09:10:21Z",
         "332542",
         "1.6"
        ],
        [
         "43",
         "2025-07-23T09:22:25Z",
         "332543",
         "1.3"
        ],
        [
         "44",
         "2025-07-23T09:34:29Z",
         "332544",
         "1.5"
        ],
        [
         "45",
         "2025-07-23T09:46:32Z",
         "332545",
         "1.7"
        ],
        [
         "46",
         "2025-07-23T09:58:36Z",
         "332546",
         "1.7"
        ],
        [
         "47",
         "2025-07-23T10:10:40Z",
         "332547",
         "1.2"
        ],
        [
         "48",
         "2025-07-23T10:22:44Z",
         "332548",
         "1.0"
        ],
        [
         "49",
         "2025-07-23T10:34:48Z",
         "332549",
         "1.3"
        ]
       ],
       "shape": {
        "columns": 3,
        "rows": 100
       }
      },
      "text/html": [
       "<div>\n",
       "<style scoped>\n",
       "    .dataframe tbody tr th:only-of-type {\n",
       "        vertical-align: middle;\n",
       "    }\n",
       "\n",
       "    .dataframe tbody tr th {\n",
       "        vertical-align: top;\n",
       "    }\n",
       "\n",
       "    .dataframe thead th {\n",
       "        text-align: right;\n",
       "    }\n",
       "</style>\n",
       "<table border=\"1\" class=\"dataframe\">\n",
       "  <thead>\n",
       "    <tr style=\"text-align: right;\">\n",
       "      <th></th>\n",
       "      <th>created_at</th>\n",
       "      <th>entry_id</th>\n",
       "      <th>Air quality PM2.5 [Âµg/m3]</th>\n",
       "    </tr>\n",
       "  </thead>\n",
       "  <tbody>\n",
       "    <tr>\n",
       "      <th>0</th>\n",
       "      <td>2025-07-23T00:44:10Z</td>\n",
       "      <td>332500</td>\n",
       "      <td>1.9</td>\n",
       "    </tr>\n",
       "    <tr>\n",
       "      <th>1</th>\n",
       "      <td>2025-07-23T00:56:13Z</td>\n",
       "      <td>332501</td>\n",
       "      <td>2.0</td>\n",
       "    </tr>\n",
       "    <tr>\n",
       "      <th>2</th>\n",
       "      <td>2025-07-23T01:08:16Z</td>\n",
       "      <td>332502</td>\n",
       "      <td>1.6</td>\n",
       "    </tr>\n",
       "    <tr>\n",
       "      <th>3</th>\n",
       "      <td>2025-07-23T01:20:19Z</td>\n",
       "      <td>332503</td>\n",
       "      <td>1.8</td>\n",
       "    </tr>\n",
       "    <tr>\n",
       "      <th>4</th>\n",
       "      <td>2025-07-23T01:32:22Z</td>\n",
       "      <td>332504</td>\n",
       "      <td>1.5</td>\n",
       "    </tr>\n",
       "    <tr>\n",
       "      <th>...</th>\n",
       "      <td>...</td>\n",
       "      <td>...</td>\n",
       "      <td>...</td>\n",
       "    </tr>\n",
       "    <tr>\n",
       "      <th>95</th>\n",
       "      <td>2025-07-23T19:50:10Z</td>\n",
       "      <td>332595</td>\n",
       "      <td>1.7</td>\n",
       "    </tr>\n",
       "    <tr>\n",
       "      <th>96</th>\n",
       "      <td>2025-07-23T20:02:14Z</td>\n",
       "      <td>332596</td>\n",
       "      <td>1.5</td>\n",
       "    </tr>\n",
       "    <tr>\n",
       "      <th>97</th>\n",
       "      <td>2025-07-23T20:14:18Z</td>\n",
       "      <td>332597</td>\n",
       "      <td>2.0</td>\n",
       "    </tr>\n",
       "    <tr>\n",
       "      <th>98</th>\n",
       "      <td>2025-07-23T20:26:22Z</td>\n",
       "      <td>332598</td>\n",
       "      <td>2.1</td>\n",
       "    </tr>\n",
       "    <tr>\n",
       "      <th>99</th>\n",
       "      <td>2025-07-23T20:38:26Z</td>\n",
       "      <td>332599</td>\n",
       "      <td>1.6</td>\n",
       "    </tr>\n",
       "  </tbody>\n",
       "</table>\n",
       "<p>100 rows × 3 columns</p>\n",
       "</div>"
      ],
      "text/plain": [
       "              created_at  entry_id Air quality PM2.5 [Âµg/m3]\n",
       "0   2025-07-23T00:44:10Z    332500                        1.9\n",
       "1   2025-07-23T00:56:13Z    332501                        2.0\n",
       "2   2025-07-23T01:08:16Z    332502                        1.6\n",
       "3   2025-07-23T01:20:19Z    332503                        1.8\n",
       "4   2025-07-23T01:32:22Z    332504                        1.5\n",
       "..                   ...       ...                        ...\n",
       "95  2025-07-23T19:50:10Z    332595                        1.7\n",
       "96  2025-07-23T20:02:14Z    332596                        1.5\n",
       "97  2025-07-23T20:14:18Z    332597                        2.0\n",
       "98  2025-07-23T20:26:22Z    332598                        2.1\n",
       "99  2025-07-23T20:38:26Z    332599                        1.6\n",
       "\n",
       "[100 rows x 3 columns]"
      ]
     },
     "execution_count": 7,
     "metadata": {},
     "output_type": "execute_result"
    }
   ],
   "source": [
    "feeds_df"
   ]
  },
  {
   "cell_type": "code",
   "execution_count": null,
   "id": "f71e430f",
   "metadata": {},
   "outputs": [],
   "source": []
  }
 ],
 "metadata": {
  "kernelspec": {
   "display_name": "EdunetEnv",
   "language": "python",
   "name": "python3"
  },
  "language_info": {
   "codemirror_mode": {
    "name": "ipython",
    "version": 3
   },
   "file_extension": ".py",
   "mimetype": "text/x-python",
   "name": "python",
   "nbconvert_exporter": "python",
   "pygments_lexer": "ipython3",
   "version": "3.12.7"
  }
 },
 "nbformat": 4,
 "nbformat_minor": 5
}
