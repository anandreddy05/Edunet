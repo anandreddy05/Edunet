{
 "cells": [
  {
   "cell_type": "code",
   "execution_count": 51,
   "id": "e65af5e2",
   "metadata": {},
   "outputs": [],
   "source": [
    "import pandas as pd\n",
    "import matplotlib.pyplot as plt\n",
    "import seaborn as sns\n",
    "from sklearn.model_selection import train_test_split\n",
    "from sklearn.svm import  SVC\n",
    "from sklearn.metrics import accuracy_score,confusion_matrix,classification_report\n",
    "import joblib\n",
    "import numpy as np"
   ]
  },
  {
   "cell_type": "code",
   "execution_count": 2,
   "id": "dee5c9ee",
   "metadata": {},
   "outputs": [
    {
     "data": {
      "application/vnd.microsoft.datawrangler.viewer.v0+json": {
       "columns": [
        {
         "name": "index",
         "rawType": "int64",
         "type": "integer"
        },
        {
         "name": "waste_type",
         "rawType": "int64",
         "type": "integer"
        },
        {
         "name": "material_composition",
         "rawType": "float64",
         "type": "float"
        },
        {
         "name": "recycling_potential",
         "rawType": "float64",
         "type": "float"
        },
        {
         "name": "toxicity_level",
         "rawType": "float64",
         "type": "float"
        },
        {
         "name": "management_strategy",
         "rawType": "int64",
         "type": "integer"
        }
       ],
       "ref": "a0128bdf-b4b4-45e3-9d40-9633c8c72f33",
       "rows": [
        [
         "0",
         "3",
         "0.1987156815341724",
         "0.0165878289278561",
         "81.01133946791808",
         "0"
        ],
        [
         "1",
         "1",
         "0.0055221171236023",
         "0.512093058299281",
         "86.70723185801037",
         "0"
        ],
        [
         "2",
         "3",
         "0.8154614284548342",
         "0.2264957751979379",
         "91.32405525564712",
         "0"
        ],
        [
         "3",
         "3",
         "0.7068573438476171",
         "0.6451727904094499",
         "51.13423988609378",
         "0"
        ],
        [
         "4",
         "1",
         "0.7290071680409873",
         "0.1743664290049914",
         "50.15162946871996",
         "0"
        ]
       ],
       "shape": {
        "columns": 5,
        "rows": 5
       }
      },
      "text/html": [
       "<div>\n",
       "<style scoped>\n",
       "    .dataframe tbody tr th:only-of-type {\n",
       "        vertical-align: middle;\n",
       "    }\n",
       "\n",
       "    .dataframe tbody tr th {\n",
       "        vertical-align: top;\n",
       "    }\n",
       "\n",
       "    .dataframe thead th {\n",
       "        text-align: right;\n",
       "    }\n",
       "</style>\n",
       "<table border=\"1\" class=\"dataframe\">\n",
       "  <thead>\n",
       "    <tr style=\"text-align: right;\">\n",
       "      <th></th>\n",
       "      <th>waste_type</th>\n",
       "      <th>material_composition</th>\n",
       "      <th>recycling_potential</th>\n",
       "      <th>toxicity_level</th>\n",
       "      <th>management_strategy</th>\n",
       "    </tr>\n",
       "  </thead>\n",
       "  <tbody>\n",
       "    <tr>\n",
       "      <th>0</th>\n",
       "      <td>3</td>\n",
       "      <td>0.198716</td>\n",
       "      <td>0.016588</td>\n",
       "      <td>81.011339</td>\n",
       "      <td>0</td>\n",
       "    </tr>\n",
       "    <tr>\n",
       "      <th>1</th>\n",
       "      <td>1</td>\n",
       "      <td>0.005522</td>\n",
       "      <td>0.512093</td>\n",
       "      <td>86.707232</td>\n",
       "      <td>0</td>\n",
       "    </tr>\n",
       "    <tr>\n",
       "      <th>2</th>\n",
       "      <td>3</td>\n",
       "      <td>0.815461</td>\n",
       "      <td>0.226496</td>\n",
       "      <td>91.324055</td>\n",
       "      <td>0</td>\n",
       "    </tr>\n",
       "    <tr>\n",
       "      <th>3</th>\n",
       "      <td>3</td>\n",
       "      <td>0.706857</td>\n",
       "      <td>0.645173</td>\n",
       "      <td>51.134240</td>\n",
       "      <td>0</td>\n",
       "    </tr>\n",
       "    <tr>\n",
       "      <th>4</th>\n",
       "      <td>1</td>\n",
       "      <td>0.729007</td>\n",
       "      <td>0.174366</td>\n",
       "      <td>50.151629</td>\n",
       "      <td>0</td>\n",
       "    </tr>\n",
       "  </tbody>\n",
       "</table>\n",
       "</div>"
      ],
      "text/plain": [
       "   waste_type  material_composition  recycling_potential  toxicity_level  \\\n",
       "0           3              0.198716             0.016588       81.011339   \n",
       "1           1              0.005522             0.512093       86.707232   \n",
       "2           3              0.815461             0.226496       91.324055   \n",
       "3           3              0.706857             0.645173       51.134240   \n",
       "4           1              0.729007             0.174366       50.151629   \n",
       "\n",
       "   management_strategy  \n",
       "0                    0  \n",
       "1                    0  \n",
       "2                    0  \n",
       "3                    0  \n",
       "4                    0  "
      ]
     },
     "execution_count": 2,
     "metadata": {},
     "output_type": "execute_result"
    }
   ],
   "source": [
    "data_path = \"./waste management.csv\"\n",
    "df = pd.read_csv(data_path)\n",
    "df.head()"
   ]
  },
  {
   "cell_type": "code",
   "execution_count": 4,
   "id": "dedbf19e",
   "metadata": {},
   "outputs": [
    {
     "data": {
      "application/vnd.microsoft.datawrangler.viewer.v0+json": {
       "columns": [
        {
         "name": "index",
         "rawType": "object",
         "type": "string"
        },
        {
         "name": "0",
         "rawType": "int64",
         "type": "integer"
        }
       ],
       "ref": "8a501af6-19f7-45a1-a2cd-aa1a9b18d728",
       "rows": [
        [
         "waste_type",
         "0"
        ],
        [
         "material_composition",
         "0"
        ],
        [
         "recycling_potential",
         "0"
        ],
        [
         "toxicity_level",
         "0"
        ],
        [
         "management_strategy",
         "0"
        ]
       ],
       "shape": {
        "columns": 1,
        "rows": 5
       }
      },
      "text/plain": [
       "waste_type              0\n",
       "material_composition    0\n",
       "recycling_potential     0\n",
       "toxicity_level          0\n",
       "management_strategy     0\n",
       "dtype: int64"
      ]
     },
     "execution_count": 4,
     "metadata": {},
     "output_type": "execute_result"
    }
   ],
   "source": [
    "df.isna().sum()"
   ]
  },
  {
   "cell_type": "code",
   "execution_count": 18,
   "id": "482cf6d6",
   "metadata": {},
   "outputs": [
    {
     "data": {
      "application/vnd.microsoft.datawrangler.viewer.v0+json": {
       "columns": [
        {
         "name": "index",
         "rawType": "object",
         "type": "string"
        },
        {
         "name": "waste_type",
         "rawType": "float64",
         "type": "float"
        },
        {
         "name": "material_composition",
         "rawType": "float64",
         "type": "float"
        },
        {
         "name": "recycling_potential",
         "rawType": "float64",
         "type": "float"
        },
        {
         "name": "toxicity_level",
         "rawType": "float64",
         "type": "float"
        },
        {
         "name": "management_strategy",
         "rawType": "float64",
         "type": "float"
        }
       ],
       "ref": "15d538ba-28c4-4177-a027-cc1ffce33d5c",
       "rows": [
        [
         "count",
         "100.0",
         "100.0",
         "100.0",
         "100.0",
         "100.0"
        ],
        [
         "mean",
         "1.98",
         "0.4775807957446846",
         "0.5296659816525279",
         "47.81256437287619",
         "0.13"
        ],
        [
         "std",
         "0.8037789534819918",
         "0.28843618211362104",
         "0.29638881627299335",
         "28.515740493997217",
         "0.3379976689896311"
        ],
        [
         "min",
         "1.0",
         "0.0055221171236023",
         "0.0050615838462186",
         "1.4393488629755868",
         "0.0"
        ],
        [
         "25%",
         "1.0",
         "0.2390808039983292",
         "0.26338718269008293",
         "23.97534990000789",
         "0.0"
        ],
        [
         "50%",
         "2.0",
         "0.4916241783209768",
         "0.5691848867124183",
         "50.72393287205128",
         "0.0"
        ],
        [
         "75%",
         "3.0",
         "0.7291569206152565",
         "0.78360948527863",
         "69.74723738846993",
         "0.0"
        ],
        [
         "max",
         "3.0",
         "0.9856504541106008",
         "0.9900538501042632",
         "97.58520794625346",
         "1.0"
        ]
       ],
       "shape": {
        "columns": 5,
        "rows": 8
       }
      },
      "text/html": [
       "<div>\n",
       "<style scoped>\n",
       "    .dataframe tbody tr th:only-of-type {\n",
       "        vertical-align: middle;\n",
       "    }\n",
       "\n",
       "    .dataframe tbody tr th {\n",
       "        vertical-align: top;\n",
       "    }\n",
       "\n",
       "    .dataframe thead th {\n",
       "        text-align: right;\n",
       "    }\n",
       "</style>\n",
       "<table border=\"1\" class=\"dataframe\">\n",
       "  <thead>\n",
       "    <tr style=\"text-align: right;\">\n",
       "      <th></th>\n",
       "      <th>waste_type</th>\n",
       "      <th>material_composition</th>\n",
       "      <th>recycling_potential</th>\n",
       "      <th>toxicity_level</th>\n",
       "      <th>management_strategy</th>\n",
       "    </tr>\n",
       "  </thead>\n",
       "  <tbody>\n",
       "    <tr>\n",
       "      <th>count</th>\n",
       "      <td>100.000000</td>\n",
       "      <td>100.000000</td>\n",
       "      <td>100.000000</td>\n",
       "      <td>100.000000</td>\n",
       "      <td>100.000000</td>\n",
       "    </tr>\n",
       "    <tr>\n",
       "      <th>mean</th>\n",
       "      <td>1.980000</td>\n",
       "      <td>0.477581</td>\n",
       "      <td>0.529666</td>\n",
       "      <td>47.812564</td>\n",
       "      <td>0.130000</td>\n",
       "    </tr>\n",
       "    <tr>\n",
       "      <th>std</th>\n",
       "      <td>0.803779</td>\n",
       "      <td>0.288436</td>\n",
       "      <td>0.296389</td>\n",
       "      <td>28.515740</td>\n",
       "      <td>0.337998</td>\n",
       "    </tr>\n",
       "    <tr>\n",
       "      <th>min</th>\n",
       "      <td>1.000000</td>\n",
       "      <td>0.005522</td>\n",
       "      <td>0.005062</td>\n",
       "      <td>1.439349</td>\n",
       "      <td>0.000000</td>\n",
       "    </tr>\n",
       "    <tr>\n",
       "      <th>25%</th>\n",
       "      <td>1.000000</td>\n",
       "      <td>0.239081</td>\n",
       "      <td>0.263387</td>\n",
       "      <td>23.975350</td>\n",
       "      <td>0.000000</td>\n",
       "    </tr>\n",
       "    <tr>\n",
       "      <th>50%</th>\n",
       "      <td>2.000000</td>\n",
       "      <td>0.491624</td>\n",
       "      <td>0.569185</td>\n",
       "      <td>50.723933</td>\n",
       "      <td>0.000000</td>\n",
       "    </tr>\n",
       "    <tr>\n",
       "      <th>75%</th>\n",
       "      <td>3.000000</td>\n",
       "      <td>0.729157</td>\n",
       "      <td>0.783609</td>\n",
       "      <td>69.747237</td>\n",
       "      <td>0.000000</td>\n",
       "    </tr>\n",
       "    <tr>\n",
       "      <th>max</th>\n",
       "      <td>3.000000</td>\n",
       "      <td>0.985650</td>\n",
       "      <td>0.990054</td>\n",
       "      <td>97.585208</td>\n",
       "      <td>1.000000</td>\n",
       "    </tr>\n",
       "  </tbody>\n",
       "</table>\n",
       "</div>"
      ],
      "text/plain": [
       "       waste_type  material_composition  recycling_potential  toxicity_level  \\\n",
       "count  100.000000            100.000000           100.000000      100.000000   \n",
       "mean     1.980000              0.477581             0.529666       47.812564   \n",
       "std      0.803779              0.288436             0.296389       28.515740   \n",
       "min      1.000000              0.005522             0.005062        1.439349   \n",
       "25%      1.000000              0.239081             0.263387       23.975350   \n",
       "50%      2.000000              0.491624             0.569185       50.723933   \n",
       "75%      3.000000              0.729157             0.783609       69.747237   \n",
       "max      3.000000              0.985650             0.990054       97.585208   \n",
       "\n",
       "       management_strategy  \n",
       "count           100.000000  \n",
       "mean              0.130000  \n",
       "std               0.337998  \n",
       "min               0.000000  \n",
       "25%               0.000000  \n",
       "50%               0.000000  \n",
       "75%               0.000000  \n",
       "max               1.000000  "
      ]
     },
     "execution_count": 18,
     "metadata": {},
     "output_type": "execute_result"
    }
   ],
   "source": [
    "df.describe()"
   ]
  },
  {
   "cell_type": "code",
   "execution_count": 20,
   "id": "ca63413e",
   "metadata": {},
   "outputs": [
    {
     "data": {
      "text/plain": [
       "array([3, 1, 2])"
      ]
     },
     "execution_count": 20,
     "metadata": {},
     "output_type": "execute_result"
    }
   ],
   "source": [
    "df[\"waste_type\"].unique()"
   ]
  },
  {
   "cell_type": "code",
   "execution_count": 21,
   "id": "2c9fedc8",
   "metadata": {},
   "outputs": [
    {
     "data": {
      "application/vnd.microsoft.datawrangler.viewer.v0+json": {
       "columns": [
        {
         "name": "waste_type",
         "rawType": "int64",
         "type": "integer"
        },
        {
         "name": "count",
         "rawType": "int64",
         "type": "integer"
        }
       ],
       "ref": "22114cd5-7095-4da7-a9fc-d54f841da161",
       "rows": [
        [
         "2",
         "36"
        ],
        [
         "1",
         "33"
        ],
        [
         "3",
         "31"
        ]
       ],
       "shape": {
        "columns": 1,
        "rows": 3
       }
      },
      "text/plain": [
       "waste_type\n",
       "2    36\n",
       "1    33\n",
       "3    31\n",
       "Name: count, dtype: int64"
      ]
     },
     "execution_count": 21,
     "metadata": {},
     "output_type": "execute_result"
    }
   ],
   "source": [
    "df[\"waste_type\"].value_counts()"
   ]
  },
  {
   "cell_type": "code",
   "execution_count": 19,
   "id": "6660b3ca",
   "metadata": {},
   "outputs": [
    {
     "data": {
      "text/plain": [
       "array([0, 1])"
      ]
     },
     "execution_count": 19,
     "metadata": {},
     "output_type": "execute_result"
    }
   ],
   "source": [
    "df[\"management_strategy\"].unique()"
   ]
  },
  {
   "cell_type": "code",
   "execution_count": 6,
   "id": "2eb29122",
   "metadata": {},
   "outputs": [
    {
     "name": "stdout",
     "output_type": "stream",
     "text": [
      "<class 'pandas.core.frame.DataFrame'>\n",
      "RangeIndex: 100 entries, 0 to 99\n",
      "Data columns (total 5 columns):\n",
      " #   Column                Non-Null Count  Dtype  \n",
      "---  ------                --------------  -----  \n",
      " 0   waste_type            100 non-null    int64  \n",
      " 1   material_composition  100 non-null    float64\n",
      " 2   recycling_potential   100 non-null    float64\n",
      " 3   toxicity_level        100 non-null    float64\n",
      " 4   management_strategy   100 non-null    int64  \n",
      "dtypes: float64(3), int64(2)\n",
      "memory usage: 4.0 KB\n"
     ]
    }
   ],
   "source": [
    "df.info()"
   ]
  },
  {
   "cell_type": "code",
   "execution_count": null,
   "id": "c360a0f2",
   "metadata": {},
   "outputs": [
    {
     "data": {
      "text/plain": [
       "Index(['waste_type', 'material_composition', 'recycling_potential',\n",
       "       'toxicity_level', 'management_strategy'],\n",
       "      dtype='object')"
      ]
     },
     "execution_count": 8,
     "metadata": {},
     "output_type": "execute_result"
    }
   ],
   "source": [
    "df.columns"
   ]
  },
  {
   "cell_type": "code",
   "execution_count": 7,
   "id": "0694b601",
   "metadata": {},
   "outputs": [
    {
     "data": {
      "application/vnd.microsoft.datawrangler.viewer.v0+json": {
       "columns": [
        {
         "name": "management_strategy",
         "rawType": "int64",
         "type": "integer"
        },
        {
         "name": "count",
         "rawType": "int64",
         "type": "integer"
        }
       ],
       "ref": "72235aba-658a-417f-882b-efa3ae68e07b",
       "rows": [
        [
         "0",
         "87"
        ],
        [
         "1",
         "13"
        ]
       ],
       "shape": {
        "columns": 1,
        "rows": 2
       }
      },
      "text/plain": [
       "management_strategy\n",
       "0    87\n",
       "1    13\n",
       "Name: count, dtype: int64"
      ]
     },
     "execution_count": 7,
     "metadata": {},
     "output_type": "execute_result"
    }
   ],
   "source": [
    "df[\"management_strategy\"].value_counts()"
   ]
  },
  {
   "cell_type": "code",
   "execution_count": 13,
   "id": "28e8e028",
   "metadata": {},
   "outputs": [
    {
     "data": {
      "application/vnd.microsoft.datawrangler.viewer.v0+json": {
       "columns": [
        {
         "name": "index",
         "rawType": "int64",
         "type": "integer"
        },
        {
         "name": "waste_type",
         "rawType": "int64",
         "type": "integer"
        }
       ],
       "ref": "91329fdd-6208-4111-9ac1-d164b4394fab",
       "rows": [
        [
         "0",
         "3"
        ],
        [
         "1",
         "1"
        ],
        [
         "2",
         "3"
        ],
        [
         "3",
         "3"
        ],
        [
         "4",
         "1"
        ]
       ],
       "shape": {
        "columns": 1,
        "rows": 5
       }
      },
      "text/plain": [
       "0    3\n",
       "1    1\n",
       "2    3\n",
       "3    3\n",
       "4    1\n",
       "Name: waste_type, dtype: int64"
      ]
     },
     "execution_count": 13,
     "metadata": {},
     "output_type": "execute_result"
    }
   ],
   "source": [
    "df[\"waste_type\"].head()"
   ]
  },
  {
   "cell_type": "code",
   "execution_count": null,
   "id": "9c56869e",
   "metadata": {},
   "outputs": [
    {
     "data": {
      "text/plain": [
       "<BarContainer object of 100 artists>"
      ]
     },
     "execution_count": 15,
     "metadata": {},
     "output_type": "execute_result"
    },
    {
     "data": {
      "image/png": "[encoded data removed]",
      "text/plain": [
       "<Figure size 640x480 with 1 Axes>"
      ]
     },
     "metadata": {},
     "output_type": "display_data"
    }
   ],
   "source": [
    "plt.bar(df[\"waste_type\"],df['toxicity_level'])"
   ]
  },
  {
   "cell_type": "code",
   "execution_count": 22,
   "id": "c06fb01e",
   "metadata": {},
   "outputs": [
    {
     "data": {
      "text/plain": [
       "np.float64(0.057268549067348865)"
      ]
     },
     "execution_count": 22,
     "metadata": {},
     "output_type": "execute_result"
    }
   ],
   "source": [
    "df['material_composition'].skew()"
   ]
  },
  {
   "cell_type": "code",
   "execution_count": 26,
   "id": "2c02d850",
   "metadata": {},
   "outputs": [
    {
     "data": {
      "text/plain": [
       "<Axes: xlabel='material_composition', ylabel='Count'>"
      ]
     },
     "execution_count": 26,
     "metadata": {},
     "output_type": "execute_result"
    },
    {
     "data": {
      "image/png": "[encoded data removed]",
      "text/plain": [
       "<Figure size 640x480 with 1 Axes>"
      ]
     },
     "metadata": {},
     "output_type": "display_data"
    }
   ],
   "source": [
    "import seaborn as sns\n",
    "\n",
    "sns.histplot(df['material_composition'], kde=True, bins=30)"
   ]
  },
  {
   "cell_type": "code",
   "execution_count": 41,
   "id": "2556cbaa",
   "metadata": {},
   "outputs": [],
   "source": [
    "X = df.iloc[:,:-1]\n",
    "y = df.iloc[:,-1:]"
   ]
  },
  {
   "cell_type": "code",
   "execution_count": 46,
   "id": "de398209",
   "metadata": {},
   "outputs": [
    {
     "name": "stderr",
     "output_type": "stream",
     "text": [
      "d:\\Edunet\\EdunetEnv\\Lib\\site-packages\\sklearn\\utils\\validation.py:1406: DataConversionWarning: A column-vector y was passed when a 1d array was expected. Please change the shape of y to (n_samples, ), for example using ravel().\n",
      "  y = column_or_1d(y, warn=True)\n"
     ]
    }
   ],
   "source": [
    "\n",
    "X_train, X_test, y_train, y_test = train_test_split(X, y, test_size=0.2, random_state=42)\n",
    "\n",
    "model = SVC(kernel='rbf', C=1.0, gamma='scale')\n",
    "model.fit(X_train, y_train)\n",
    "\n",
    "\n",
    "y_pred = model.predict(X_test)\n"
   ]
  },
  {
   "cell_type": "code",
   "execution_count": 48,
   "id": "9ae46908",
   "metadata": {},
   "outputs": [
    {
     "name": "stdout",
     "output_type": "stream",
     "text": [
      "Accuracy: 0.9\n"
     ]
    }
   ],
   "source": [
    "# Accuracy Score\n",
    "accuracy = accuracy_score(y_test, y_pred)\n",
    "print(\"Accuracy:\", accuracy)\n"
   ]
  },
  {
   "cell_type": "code",
   "execution_count": 49,
   "id": "441b65b5",
   "metadata": {},
   "outputs": [
    {
     "data": {
      "image/png": "[encoded data removed]",
      "text/plain": [
       "<Figure size 640x480 with 2 Axes>"
      ]
     },
     "metadata": {},
     "output_type": "display_data"
    }
   ],
   "source": [
    "\n",
    "# Confusion Matrix\n",
    "conf_matrix = confusion_matrix(y_test, y_pred)\n",
    "sns.heatmap(conf_matrix, annot=True, fmt='d', cmap='Blues', \n",
    "            xticklabels=['Non-Recyclable', 'Recyclable'], \n",
    "            yticklabels=['Non-Recyclable', 'Recyclable'])\n",
    "plt.xlabel('Predicted')\n",
    "plt.ylabel('Actual')\n",
    "plt.title('Confusion Matrix')\n",
    "plt.show()"
   ]
  },
  {
   "cell_type": "code",
   "execution_count": 50,
   "id": "33ff158a",
   "metadata": {},
   "outputs": [
    {
     "name": "stdout",
     "output_type": "stream",
     "text": [
      "                precision    recall  f1-score   support\n",
      "\n",
      "Non-Recyclable       0.90      1.00      0.95        18\n",
      "    Recyclable       0.00      0.00      0.00         2\n",
      "\n",
      "      accuracy                           0.90        20\n",
      "     macro avg       0.45      0.50      0.47        20\n",
      "  weighted avg       0.81      0.90      0.85        20\n",
      "\n"
     ]
    },
    {
     "name": "stderr",
     "output_type": "stream",
     "text": [
      "d:\\Edunet\\EdunetEnv\\Lib\\site-packages\\sklearn\\metrics\\_classification.py:1731: UndefinedMetricWarning: Precision is ill-defined and being set to 0.0 in labels with no predicted samples. Use `zero_division` parameter to control this behavior.\n",
      "  _warn_prf(average, modifier, f\"{metric.capitalize()} is\", result.shape[0])\n",
      "d:\\Edunet\\EdunetEnv\\Lib\\site-packages\\sklearn\\metrics\\_classification.py:1731: UndefinedMetricWarning: Precision is ill-defined and being set to 0.0 in labels with no predicted samples. Use `zero_division` parameter to control this behavior.\n",
      "  _warn_prf(average, modifier, f\"{metric.capitalize()} is\", result.shape[0])\n",
      "d:\\Edunet\\EdunetEnv\\Lib\\site-packages\\sklearn\\metrics\\_classification.py:1731: UndefinedMetricWarning: Precision is ill-defined and being set to 0.0 in labels with no predicted samples. Use `zero_division` parameter to control this behavior.\n",
      "  _warn_prf(average, modifier, f\"{metric.capitalize()} is\", result.shape[0])\n"
     ]
    }
   ],
   "source": [
    "print(classification_report(y_test, y_pred, target_names=['Non-Recyclable', 'Recyclable']))\n"
   ]
  },
  {
   "cell_type": "code",
   "execution_count": 52,
   "id": "5ff9afb2",
   "metadata": {},
   "outputs": [
    {
     "data": {
      "text/plain": [
       "['waste management_model.pkl']"
      ]
     },
     "execution_count": 52,
     "metadata": {},
     "output_type": "execute_result"
    }
   ],
   "source": [
    "\n",
    "import joblib\n",
    "# Save the model to a file\n",
    "joblib.dump(model, 'waste management_model.pkl')"
   ]
  },
  {
   "cell_type": "code",
   "execution_count": null,
   "id": "efc7fc7e",
   "metadata": {},
   "outputs": [
    {
     "data": {
      "text/plain": [
       "(-1.0, 3.5)"
      ]
     },
     "execution_count": 53,
     "metadata": {},
     "output_type": "execute_result"
    },
    {
     "data": {
      "image/png": "[encoded data removed]",
      "text/plain": [
       "<Figure size 640x480 with 1 Axes>"
      ]
     },
     "metadata": {},
     "output_type": "display_data"
    }
   ],
   "source": [
    "### scratch understanding of the model\n",
    "\n",
    "from sklearn.datasets import make_blobs\n",
    "\n",
    "\n",
    "from sklearn.datasets import make_blobs\n",
    "\n",
    "X, y = make_blobs(n_samples=50, centers=2,\n",
    "                  random_state=0, cluster_std=0.60)\n",
    "plt.scatter(X[:, 0], X[:, 1], c=y, s=50, cmap='autumn')\n",
    "\n",
    "\n",
    "xfit = np.linspace(-1, 3.5)\n",
    "plt.scatter(X[:, 0], X[:, 1], c=y, s=50, cmap='autumn')\n",
    "plt.plot([0.6], [2.1], 'x', color='red', markeredgewidth=2, markersize=10)\n",
    "\n",
    "for m, b in [(1, 0.65), (0.5, 1.6), (-0.2, 2.9)]:\n",
    "    plt.plot(xfit, m * xfit + b, '-k')\n",
    "\n",
    "plt.xlim(-1, 3.5)"
   ]
  },
  {
   "cell_type": "code",
   "execution_count": null,
   "id": "d8c686dc",
   "metadata": {},
   "outputs": [],
   "source": []
  }
 ],
 "metadata": {
  "kernelspec": {
   "display_name": "EdunetEnv",
   "language": "python",
   "name": "python3"
  },
  "language_info": {
   "codemirror_mode": {
    "name": "ipython",
    "version": 3
   },
   "file_extension": ".py",
   "mimetype": "text/x-python",
   "name": "python",
   "nbconvert_exporter": "python",
   "pygments_lexer": "ipython3",
   "version": "3.12.7"
  }
 },
 "nbformat": 4,
 "nbformat_minor": 5
}
