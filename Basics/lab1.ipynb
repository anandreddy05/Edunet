{
 "cells": [
  {
   "cell_type": "code",
   "execution_count": null,
   "id": "58252199",
   "metadata": {},
   "outputs": [
    {
     "name": "stdout",
     "output_type": "stream",
     "text": [
      "City Name: City Vadodara\n",
      "Carbon Footprint: 500.75 kg CO2\n",
      "Is the city sustainable? False\n",
      "Weekly Temperatures: [25, 27, 28, 26, 24, 30, 29]\n",
      "City Data: {'name': 'City A', 'temperature': 25, 'carbon_footprint': 500.75, 'is_sustainable': False}\n",
      "City Name: City B, Temperature: 30°C, Carbon Footprint: 350.5 kg CO2\n",
      "Cities with high temperatures (> 26°C):\n",
      "City B - 30°C\n",
      "City E - 28°C\n",
      "\n",
      "Average Carbon Footprint: 420.00 kg CO2\n"
     ]
    }
   ],
   "source": [
    "# Create a string variable\n",
    "city_name = \"City Vadodara\"\n",
    "\n",
    "# Print the value of the string variable\n",
    "print(f\"City Name: {city_name}\")\n",
    "\n",
    "# Create a float variable for carbon footprint\n",
    "carbon_footprint = 500.75  # kg CO2\n",
    "\n",
    "# Print the value of the float variable\n",
    "print(f\"Carbon Footprint: {carbon_footprint} kg CO2\")\n",
    "\n",
    "# Create a boolean variable to indicate if the city is sustainable\n",
    "is_sustainable = carbon_footprint < 400  # This will be False because 500.75 > 400\n",
    "\n",
    "# Print the value of the boolean variable\n",
    "print(f\"Is the city sustainable? {is_sustainable}\")\n",
    "\n",
    "\n",
    "# Create a list variable for temperatures recorded in the city over a week\n",
    "weekly_temperatures = [25, 27, 28, 26, 24, 30, 29]\n",
    "\n",
    "# Print the list\n",
    "print(f\"Weekly Temperatures: {weekly_temperatures}\")\n",
    "\n",
    "\n",
    "# Create a dictionary variable to store city data\n",
    "city_data = {\n",
    "    \"name\": \"City A\",\n",
    "    \"temperature\": 25,\n",
    "    \"carbon_footprint\": 500.75,\n",
    "    \"is_sustainable\": False\n",
    "}\n",
    "\n",
    "# Print the dictionary\n",
    "print(f\"City Data: {city_data}\")\n",
    "\n",
    "\n",
    "# Assign multiple variables at once\n",
    "city_name, temperature, carbon_footprint = \"City B\", 30, 350.50\n",
    "\n",
    "# Print the values\n",
    "print(f\"City Name: {city_name}, Temperature: {temperature}°C, Carbon Footprint: {carbon_footprint} kg CO2\")\n",
    "\n",
    "# Sample climate dataset\n",
    "climate_data = [\n",
    "    {\"city\": \"City A\", \"temperature\": 25, \"carbon_footprint\": 500},\n",
    "    {\"city\": \"City B\", \"temperature\": 30, \"carbon_footprint\": 350},\n",
    "    {\"city\": \"City C\", \"temperature\": 22, \"carbon_footprint\": 600},\n",
    "    {\"city\": \"City D\", \"temperature\": 15, \"carbon_footprint\": 200},\n",
    "    {\"city\": \"City E\", \"temperature\": 28, \"carbon_footprint\": 450},\n",
    "]\n",
    "\n",
    "# High temperature threshold (cities above this temperature will be selected)\n",
    "high_temp_threshold = 26\n",
    "\n",
    "# Use a list comprehension to filter cities with temperatures higher than the threshold\n",
    "high_temp_cities = [city for city in climate_data if city[\"temperature\"] > high_temp_threshold]\n",
    "\n",
    "# Print the result\n",
    "print(\"Cities with high temperatures (> 26°C):\")\n",
    "for city in high_temp_cities:\n",
    "    print(f\"{city['city']} - {city['temperature']}°C\")\n",
    "\n",
    "\n",
    "\n",
    "# We will continue using the same dataset as above\n",
    "# Initialize a variable to store the total carbon footprint\n",
    "total_carbon = 0\n",
    "\n",
    "# Use a for loop to go through each city in the dataset and add their carbon footprint\n",
    "for city in climate_data:\n",
    "    total_carbon += city[\"carbon_footprint\"]  # Add each city's carbon footprint to the total\n",
    "\n",
    "# Calculate the average carbon footprint\n",
    "average_carbon_footprint = total_carbon / len(climate_data)\n",
    "\n",
    "# Print the average result\n",
    "print(f\"\\nAverage Carbon Footprint: {average_carbon_footprint:.2f} kg CO2\")"
   ]
  },
  {
   "cell_type": "code",
   "execution_count": 15,
   "id": "6f2058d6",
   "metadata": {},
   "outputs": [
    {
     "name": "stdout",
     "output_type": "stream",
     "text": [
      "['City D']\n"
     ]
    }
   ],
   "source": [
    "sustainable_cities = [city['city'] for city in climate_data if city['carbon_footprint'] < average_carbon_footprint and city['temperature'] < high_temp_threshold]\n",
    "print(sustainable_cities)"
   ]
  },
  {
   "cell_type": "code",
   "execution_count": 48,
   "id": "39c720e1",
   "metadata": {},
   "outputs": [],
   "source": [
    "# Encoded alerts from the City Hall energy sensor\n",
    "encoded_alerts = [\n",
    "    (\"03:00\", \"e#co1_sav@e\", (5, \"High\")),\n",
    "    (\"11:00\", \"gr33n#sk@1lls\", (8, \"Medium\")),\n",
    "    (\"16:00\", \"en#ergy_leak!\", (9, \"Critical\")),\n",
    "    (\"20:00\", \"norm@l_0ps\", (4, \"Low\")),\n",
    "]\n",
    "\n"
   ]
  },
  {
   "cell_type": "code",
   "execution_count": 25,
   "id": "04461ab1",
   "metadata": {},
   "outputs": [
    {
     "name": "stdout",
     "output_type": "stream",
     "text": [
      "[('03:00', 'e#co1_sav@e', (5, 'High')), ('11:00', 'gr33n#sk@1lls', (8, 'Medium')), ('16:00', 'en#ergy_leak!', (9, 'Critical')), ('20:00', 'norm@l_0ps', (4, 'Low'))]\n"
     ]
    }
   ],
   "source": [
    "print(encoded_alerts)"
   ]
  },
  {
   "cell_type": "code",
   "execution_count": 29,
   "id": "1ae0342f",
   "metadata": {},
   "outputs": [],
   "source": [
    "encoded_alerts[0] = (encoded_alerts[0][0], \"eco_save\", encoded_alerts[0][2])\n",
    "encoded_alerts[1] = (encoded_alerts[1][0], \"greenskills\", encoded_alerts[1][2])\n",
    "encoded_alerts[2] = (encoded_alerts[2][0], \"energy_leak\", encoded_alerts[2][2])\n",
    "encoded_alerts[3] = (encoded_alerts[3][0], \"normal\", encoded_alerts[3][2])\n"
   ]
  },
  {
   "cell_type": "code",
   "execution_count": 31,
   "id": "2131ce13",
   "metadata": {},
   "outputs": [
    {
     "name": "stdout",
     "output_type": "stream",
     "text": [
      "[('03:00', 'eco_save', (5, 'High')), ('11:00', 'greenskills', (8, 'Medium')), ('16:00', 'energy_leak', (9, 'Critical')), ('20:00', 'normal', (4, 'Low'))]\n"
     ]
    }
   ],
   "source": [
    "print(encoded_alerts)"
   ]
  },
  {
   "cell_type": "code",
   "execution_count": 47,
   "id": "31ba2bc7",
   "metadata": {},
   "outputs": [
    {
     "name": "stdout",
     "output_type": "stream",
     "text": [
      "anand_reddy\n"
     ]
    }
   ],
   "source": [
    "a = \"anand reddy\"\n",
    "b = a.replace(\" \",\"_\")\n",
    "print(b)"
   ]
  },
  {
   "cell_type": "code",
   "execution_count": 65,
   "id": "5a4eb264",
   "metadata": {},
   "outputs": [
    {
     "name": "stdout",
     "output_type": "stream",
     "text": [
      "Average Carbon Footprint is 420.0\n"
     ]
    }
   ],
   "source": [
    "climate_data = [\n",
    "    {\"city\": \"City A\", \"temperature\": 25, \"carbon_footprint\": 500},\n",
    "    {\"city\": \"City B\", \"temperature\": 30, \"carbon_footprint\": 350},\n",
    "    {\"city\": \"City C\", \"temperature\": 22, \"carbon_footprint\": 600},\n",
    "    {\"city\": \"City D\", \"temperature\": 15, \"carbon_footprint\": 200},\n",
    "    {\"city\": \"City E\", \"temperature\": 28, \"carbon_footprint\": 450},\n",
    "]\n",
    "summ = 0\n",
    "num = 0\n",
    "for data in climate_data:\n",
    "    summ += data['carbon_footprint']\n",
    "    num += 1\n",
    "avg = summ / num\n",
    "print(f\"Average Carbon Footprint is {avg}\")"
   ]
  },
  {
   "cell_type": "code",
   "execution_count": null,
   "id": "987977e5",
   "metadata": {},
   "outputs": [
    {
     "name": "stdout",
     "output_type": "stream",
     "text": [
      "12\n"
     ]
    }
   ],
   "source": []
  },
  {
   "cell_type": "code",
   "execution_count": null,
   "id": "2f605335",
   "metadata": {},
   "outputs": [],
   "source": []
  }
 ],
 "metadata": {
  "kernelspec": {
   "display_name": "EdunetEnv",
   "language": "python",
   "name": "python3"
  },
  "language_info": {
   "codemirror_mode": {
    "name": "ipython",
    "version": 3
   },
   "file_extension": ".py",
   "mimetype": "text/x-python",
   "name": "python",
   "nbconvert_exporter": "python",
   "pygments_lexer": "ipython3",
   "version": "3.12.7"
  }
 },
 "nbformat": 4,
 "nbformat_minor": 5
}
