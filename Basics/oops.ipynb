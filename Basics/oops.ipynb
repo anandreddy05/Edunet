{
 "cells": [
  {
   "cell_type": "markdown",
   "id": "9c88dc7d",
   "metadata": {},
   "source": [
    "1. Class Definition: We will define the EnergySystem class to model the energy consumption and emission factors for different buildings.\n",
    "2. Methods: We will implement methods to calculate the carbon footprint and energy savings for each building."
   ]
  },
  {
   "cell_type": "code",
   "execution_count": 1,
   "id": "cdba5383",
   "metadata": {},
   "outputs": [
    {
     "name": "stdout",
     "output_type": "stream",
     "text": [
      "Building A: 5000 kWh, 0.45 kg CO2/kWh\n"
     ]
    }
   ],
   "source": [
    "# Define the EnergySystem class\n",
    "class EnergySystem:\n",
    "    def __init__(self, building_name, energy_consumption, emission_factor):\n",
    "        # Initialize attributes\n",
    "        self.building_name = building_name\n",
    "        self.energy_consumption = energy_consumption  # in kWh\n",
    "        self.emission_factor = emission_factor  # kg CO2 per kWh\n",
    "\n",
    "# Example usage:\n",
    "building = EnergySystem(\"Building A\", 5000, 0.45)\n",
    "print(f\"{building.building_name}: {building.energy_consumption} kWh, {building.emission_factor} kg CO2/kWh\")\n",
    "\n",
    "\n"
   ]
  },
  {
   "cell_type": "code",
   "execution_count": 7,
   "id": "e1ecceb1",
   "metadata": {},
   "outputs": [
    {
     "name": "stdout",
     "output_type": "stream",
     "text": [
      "Carbon Footprint: 2250.0 kg CO2\n",
      "Energy Savings: 500.0 kWh\n"
     ]
    }
   ],
   "source": [
    "class EnergySystem:\n",
    "    def __init__(self, building_name, energy_consumption, emission_factor):\n",
    "        EnergySystem.building_name = building_name\n",
    "        EnergySystem.energy_consumption = energy_consumption  # in kWh\n",
    "        self.emission_factor = emission_factor  # kg CO2 per kWh\n",
    "    \n",
    "    # Method to calculate carbon footprint\n",
    "    def calculate_carbon_footprint(self):\n",
    "        return EnergySystem.energy_consumption * self.emission_factor\n",
    "\n",
    "    # Method to calculate energy savings (Assume saving 10% for now)\n",
    "    def calculate_energy_savings(self):\n",
    "        return self.energy_consumption * 0.10 # 10% savings\n",
    "\n",
    "# Example usage:\n",
    "building = EnergySystem(\"Building A\", 5000, 0.45)\n",
    "carbon_footprint = building.calculate_carbon_footprint()\n",
    "energy_savings = building.calculate_energy_savings()\n",
    "\n",
    "print(f\"Carbon Footprint: {carbon_footprint} kg CO2\")\n",
    "print(f\"Energy Savings: {energy_savings} kWh\")"
   ]
  },
  {
   "cell_type": "code",
   "execution_count": 8,
   "id": "a268c571",
   "metadata": {},
   "outputs": [],
   "source": [
    "class SolarEnergySystem(EnergySystem):\n",
    "    def __init__(self,solar_production):\n",
    "        super().__init__\n",
    "        self.solar_production = solar_production\n",
    "    def get_solar_emission(self):\n",
    "        return self.energy_consumption - self.solar_production"
   ]
  },
  {
   "cell_type": "code",
   "execution_count": 14,
   "id": "aea375b7",
   "metadata": {},
   "outputs": [
    {
     "name": "stdout",
     "output_type": "stream",
     "text": [
      "19\n"
     ]
    }
   ],
   "source": [
    "solar = SolarEnergySystem(1)\n",
    "solar.energy_consumption = 20\n",
    "a = solar.get_solar_emission()\n",
    "print(a)"
   ]
  },
  {
   "cell_type": "code",
   "execution_count": 27,
   "id": "d3f08310",
   "metadata": {},
   "outputs": [
    {
     "name": "stdout",
     "output_type": "stream",
     "text": [
      "Energy Consumption (accessed via method): 5000 kWh\n"
     ]
    }
   ],
   "source": [
    "class EnergySystem:\n",
    "    def __init__(self, building_name, energy_consumption, emission_factor):\n",
    "        self.building_name = building_name\n",
    "        self._energy_consumption = energy_consumption  # Protected attribute\n",
    "        self._emission_factor = emission_factor  # Protected attribute\n",
    "\n",
    "    # Method to access energy consumption safely\n",
    "    def get_energy_consumption(self):\n",
    "        return self._energy_consumption\n",
    "\n",
    "    # Method to calculate carbon footprint\n",
    "    def calculate_carbon_footprint(self):\n",
    "        return self._energy_consumption * self._emission_factor\n",
    "\n",
    "# Example usage:\n",
    "building = EnergySystem(\"Building A\", 5000, 0.45)\n",
    "print(f\"Energy Consumption (accessed via method): {building.get_energy_consumption()} kWh\")"
   ]
  },
  {
   "cell_type": "code",
   "execution_count": 36,
   "id": "8dbc0685",
   "metadata": {},
   "outputs": [
    {
     "name": "stdout",
     "output_type": "stream",
     "text": [
      "Adjusted Carbon Footprint (after solar production): 1575.00 kg CO2\n"
     ]
    }
   ],
   "source": [
    "\n",
    "# Subclass SolarEnergySystem overriding the carbon footprint method\n",
    "class SolarEnergySystem(EnergySystem):\n",
    "    def __init__(self, building_name, energy_consumption, emission_factor, solar_production):\n",
    "        # Call the parent class constructor to initialize inherited attributes\n",
    "        super().__init__(building_name, energy_consumption, emission_factor)\n",
    "        self.solar_production = solar_production  # new attribute for solar energy production\n",
    "    \n",
    "    # Overriding the carbon footprint method to account for solar production\n",
    "    def calculate_carbon_footprint(self):\n",
    "        # Access energy consumption from the parent class (inherited attribute)\n",
    "        net_consumption = self._energy_consumption - self.solar_production\n",
    "        return net_consumption * self._emission_factor\n",
    "\n",
    "# Example usage:\n",
    "solar_building = SolarEnergySystem(\"Solar Building\", 5000, 0.45, 1500)\n",
    "carbon_footprint = solar_building.calculate_carbon_footprint()\n",
    "\n",
    "print(f\"Adjusted Carbon Footprint (after solar production): {carbon_footprint:.2f} kg CO2\")\n"
   ]
  }
 ],
 "metadata": {
  "kernelspec": {
   "display_name": "EdunetEnv",
   "language": "python",
   "name": "python3"
  },
  "language_info": {
   "codemirror_mode": {
    "name": "ipython",
    "version": 3
   },
   "file_extension": ".py",
   "mimetype": "text/x-python",
   "name": "python",
   "nbconvert_exporter": "python",
   "pygments_lexer": "ipython3",
   "version": "3.12.7"
  }
 },
 "nbformat": 4,
 "nbformat_minor": 5
}
